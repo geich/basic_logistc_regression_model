{
  "nbformat": 4,
  "nbformat_minor": 0,
  "metadata": {
    "colab": {
      "name": "LogistcRegression Model Train",
      "provenance": [],
      "collapsed_sections": []
    },
    "kernelspec": {
      "name": "python3",
      "display_name": "Python 3"
    }
  },
  "cells": [
    {
      "cell_type": "code",
      "metadata": {
        "id": "EGQ3chGsMf_D",
        "colab": {
          "base_uri": "https://localhost:8080/",
          "height": 182
        },
        "outputId": "b9e9cf63-398a-4b82-9c7a-6695277b53b7"
      },
      "source": [
        "!pip install mysql-connector-python"
      ],
      "execution_count": null,
      "outputs": [
        {
          "output_type": "stream",
          "text": [
            "Collecting mysql-connector-python\n",
            "\u001b[?25l  Downloading https://files.pythonhosted.org/packages/6c/1d/e666f7d43496a2315d3963a2fb7f8df84e7293b4ddbf05e46d6bdb4a8892/mysql_connector_python-8.0.22-cp36-cp36m-manylinux1_x86_64.whl (18.0MB)\n",
            "\u001b[K     |████████████████████████████████| 18.0MB 225kB/s \n",
            "\u001b[?25hRequirement already satisfied: protobuf>=3.0.0 in /usr/local/lib/python3.6/dist-packages (from mysql-connector-python) (3.12.4)\n",
            "Requirement already satisfied: setuptools in /usr/local/lib/python3.6/dist-packages (from protobuf>=3.0.0->mysql-connector-python) (50.3.0)\n",
            "Requirement already satisfied: six>=1.9 in /usr/local/lib/python3.6/dist-packages (from protobuf>=3.0.0->mysql-connector-python) (1.15.0)\n",
            "Installing collected packages: mysql-connector-python\n",
            "Successfully installed mysql-connector-python-8.0.22\n"
          ],
          "name": "stdout"
        }
      ]
    },
    {
      "cell_type": "code",
      "metadata": {
        "id": "vA-2mP9GMYY0"
      },
      "source": [
        "import pandas as pd \n",
        "import numpy as np\n",
        "import nltk\n",
        "\n",
        "from joblib import dump\n",
        "from nltk.corpus import stopwords\n",
        "from sklearn import model_selection, preprocessing\n",
        "from sklearn.feature_extraction.text import TfidfVectorizer\n",
        "from sqlalchemy import create_engine\n",
        "from sklearn import linear_model\n",
        "from sklearn.metrics import accuracy_score\n",
        "from sklearn import svm\n",
        "\n",
        "np.random.seed(123) #for reprodicible results\n",
        "%matplotlib inline"
      ],
      "execution_count": null,
      "outputs": []
    },
    {
      "cell_type": "code",
      "metadata": {
        "id": "xxk1izhA-hXs",
        "colab": {
          "base_uri": "https://localhost:8080/",
          "height": 53
        },
        "outputId": "46d69ac3-ebfe-4b06-b4a4-837a594562da"
      },
      "source": [
        "nltk.download('stopwords')\n",
        "stopwords = set(stopwords.words('portuguese'))"
      ],
      "execution_count": null,
      "outputs": [
        {
          "output_type": "stream",
          "text": [
            "[nltk_data] Downloading package stopwords to /root/nltk_data...\n",
            "[nltk_data]   Unzipping corpora/stopwords.zip.\n"
          ],
          "name": "stdout"
        }
      ]
    },
    {
      "cell_type": "code",
      "metadata": {
        "id": "MNzk0YC5MZ7K"
      },
      "source": [
        "DB_PASS = ''\n",
        "DB_USER = ''\n",
        "DB_HOST = ''\n",
        "DB_TABLE = \"\"\n",
        "\n",
        "engine = create_engine('mysql+mysqlconnector://{}:{}@{}/{}'.format(DB_USER, DB_PASS, DB_HOST, DB_TABLE), echo=False)"
      ],
      "execution_count": null,
      "outputs": []
    },
    {
      "cell_type": "code",
      "metadata": {
        "id": "_d_wSE9mMbGj"
      },
      "source": [
        "data = pd.read_sql_query('SELECT name, categories_1 \\\n",
        "                        FROM products_supervisioned \\\n",
        "                        GROUP BY name', \n",
        "                        engine_tests)"
      ],
      "execution_count": null,
      "outputs": []
    },
    {
      "cell_type": "code",
      "metadata": {
        "id": "UNsVfNufII1l",
        "colab": {
          "base_uri": "https://localhost:8080/",
          "height": 271
        },
        "outputId": "288b7bd8-7052-4472-f044-aa3d8c115bc9"
      },
      "source": [
        "data['categories_1'].value_counts()"
      ],
      "execution_count": null,
      "outputs": [
        {
          "output_type": "execute_result",
          "data": {
            "text/plain": [
              "Mercearia              22803\n",
              "Bebidas                12150\n",
              "Perfumaria E Beleza    11771\n",
              "Bazar E Utilidades      7062\n",
              "Limpeza                 6334\n",
              "Laticínios              4728\n",
              "Frios E Congelados      2734\n",
              "Hortifruti              2043\n",
              "Carnes                  1639\n",
              "Padaria                 1238\n",
              "Pet Shop                 716\n",
              "Flores E Plantas         132\n",
              "Nao Utilizados            29\n",
              "Name: categories_1, dtype: int64"
            ]
          },
          "metadata": {
            "tags": []
          },
          "execution_count": 7
        }
      ]
    },
    {
      "cell_type": "code",
      "metadata": {
        "id": "luag9FhFNVPg"
      },
      "source": [
        "selected_categories = data['categories_1'].value_counts().index.tolist()"
      ],
      "execution_count": null,
      "outputs": []
    },
    {
      "cell_type": "code",
      "metadata": {
        "id": "XGieniUdaFhG",
        "colab": {
          "base_uri": "https://localhost:8080/",
          "height": 253
        },
        "outputId": "cc354cb0-eefa-4679-d804-b12e8a0b6017"
      },
      "source": [
        "selected_categories"
      ],
      "execution_count": null,
      "outputs": [
        {
          "output_type": "execute_result",
          "data": {
            "text/plain": [
              "['Mercearia',\n",
              " 'Bebidas',\n",
              " 'Perfumaria E Beleza',\n",
              " 'Bazar E Utilidades',\n",
              " 'Limpeza',\n",
              " 'Laticínios',\n",
              " 'Frios E Congelados',\n",
              " 'Hortifruti',\n",
              " 'Carnes',\n",
              " 'Padaria',\n",
              " 'Pet Shop',\n",
              " 'Flores E Plantas',\n",
              " 'Nao Utilizados']"
            ]
          },
          "metadata": {
            "tags": []
          },
          "execution_count": 9
        }
      ]
    },
    {
      "cell_type": "code",
      "metadata": {
        "id": "MbnTGEJahvwV",
        "colab": {
          "base_uri": "https://localhost:8080/",
          "height": 457
        },
        "outputId": "5034189b-e736-451a-bc3c-12d52d25c010"
      },
      "source": [
        "train_x, test_x, train_y, test_y = model_selection.train_test_split(data['name'], data['categories_1'])\n",
        "\n",
        "# label encode the target variable, encode labels to 0, 1, 2\n",
        "encoder = preprocessing.LabelEncoder()\n",
        "train_y = encoder.fit_transform(train_y)\n",
        "test_y = encoder.fit_transform(test_y)\n",
        "\n",
        "categories_df = pd.DataFrame({\"category\": selected_categories}, index=encoder.transform(selected_categories))\n",
        "categories_df"
      ],
      "execution_count": null,
      "outputs": [
        {
          "output_type": "execute_result",
          "data": {
            "text/html": [
              "<div>\n",
              "<style scoped>\n",
              "    .dataframe tbody tr th:only-of-type {\n",
              "        vertical-align: middle;\n",
              "    }\n",
              "\n",
              "    .dataframe tbody tr th {\n",
              "        vertical-align: top;\n",
              "    }\n",
              "\n",
              "    .dataframe thead th {\n",
              "        text-align: right;\n",
              "    }\n",
              "</style>\n",
              "<table border=\"1\" class=\"dataframe\">\n",
              "  <thead>\n",
              "    <tr style=\"text-align: right;\">\n",
              "      <th></th>\n",
              "      <th>category</th>\n",
              "    </tr>\n",
              "  </thead>\n",
              "  <tbody>\n",
              "    <tr>\n",
              "      <th>8</th>\n",
              "      <td>Mercearia</td>\n",
              "    </tr>\n",
              "    <tr>\n",
              "      <th>1</th>\n",
              "      <td>Bebidas</td>\n",
              "    </tr>\n",
              "    <tr>\n",
              "      <th>11</th>\n",
              "      <td>Perfumaria E Beleza</td>\n",
              "    </tr>\n",
              "    <tr>\n",
              "      <th>0</th>\n",
              "      <td>Bazar E Utilidades</td>\n",
              "    </tr>\n",
              "    <tr>\n",
              "      <th>7</th>\n",
              "      <td>Limpeza</td>\n",
              "    </tr>\n",
              "    <tr>\n",
              "      <th>6</th>\n",
              "      <td>Laticínios</td>\n",
              "    </tr>\n",
              "    <tr>\n",
              "      <th>4</th>\n",
              "      <td>Frios E Congelados</td>\n",
              "    </tr>\n",
              "    <tr>\n",
              "      <th>5</th>\n",
              "      <td>Hortifruti</td>\n",
              "    </tr>\n",
              "    <tr>\n",
              "      <th>2</th>\n",
              "      <td>Carnes</td>\n",
              "    </tr>\n",
              "    <tr>\n",
              "      <th>10</th>\n",
              "      <td>Padaria</td>\n",
              "    </tr>\n",
              "    <tr>\n",
              "      <th>12</th>\n",
              "      <td>Pet Shop</td>\n",
              "    </tr>\n",
              "    <tr>\n",
              "      <th>3</th>\n",
              "      <td>Flores E Plantas</td>\n",
              "    </tr>\n",
              "    <tr>\n",
              "      <th>9</th>\n",
              "      <td>Nao Utilizados</td>\n",
              "    </tr>\n",
              "  </tbody>\n",
              "</table>\n",
              "</div>"
            ],
            "text/plain": [
              "               category\n",
              "8             Mercearia\n",
              "1               Bebidas\n",
              "11  Perfumaria E Beleza\n",
              "0    Bazar E Utilidades\n",
              "7               Limpeza\n",
              "6            Laticínios\n",
              "4    Frios E Congelados\n",
              "5            Hortifruti\n",
              "2                Carnes\n",
              "10              Padaria\n",
              "12             Pet Shop\n",
              "3      Flores E Plantas\n",
              "9        Nao Utilizados"
            ]
          },
          "metadata": {
            "tags": []
          },
          "execution_count": 10
        }
      ]
    },
    {
      "cell_type": "code",
      "metadata": {
        "id": "QbmcOmHKPgN_",
        "colab": {
          "base_uri": "https://localhost:8080/",
          "height": 235
        },
        "outputId": "39f55cb2-1d04-457b-b44a-032d71f9008b"
      },
      "source": [
        "tfidf_vect = TfidfVectorizer(analyzer='word', token_pattern=r'\\w{1,}', stop_words = stopwords,\n",
        "                             max_features=5000, ngram_range=(1,2))\n",
        "tfidf_vect.fit(data['name'])"
      ],
      "execution_count": null,
      "outputs": [
        {
          "output_type": "execute_result",
          "data": {
            "text/plain": [
              "TfidfVectorizer(analyzer='word', binary=False, decode_error='strict',\n",
              "                dtype=<class 'numpy.float64'>, encoding='utf-8',\n",
              "                input='content', lowercase=True, max_df=1.0, max_features=5000,\n",
              "                min_df=1, ngram_range=(1, 2), norm='l2', preprocessor=None,\n",
              "                smooth_idf=True,\n",
              "                stop_words={'a', 'ao', 'aos', 'aquela', 'aquelas', 'aquele',\n",
              "                            'aqueles', 'aquilo', 'as', 'até', 'com', 'como',\n",
              "                            'da', 'das', 'de', 'dela', 'delas', 'dele', 'deles',\n",
              "                            'depois', 'do', 'dos', 'e', 'ela', 'elas', 'ele',\n",
              "                            'eles', 'em', 'entre', 'era', ...},\n",
              "                strip_accents=None, sublinear_tf=False, token_pattern='\\\\w{1,}',\n",
              "                tokenizer=None, use_idf=True, vocabulary=None)"
            ]
          },
          "metadata": {
            "tags": []
          },
          "execution_count": 11
        }
      ]
    },
    {
      "cell_type": "code",
      "metadata": {
        "id": "wSwkUh0r7z9Y"
      },
      "source": [
        "xtrain_tfidf =  tfidf_vect.transform(train_x).toarray()\n",
        "xtest_tfidf =  tfidf_vect.transform(test_x).toarray()"
      ],
      "execution_count": null,
      "outputs": []
    },
    {
      "cell_type": "code",
      "metadata": {
        "id": "Fu2Vjrbs5-fu",
        "colab": {
          "base_uri": "https://localhost:8080/",
          "height": 35
        },
        "outputId": "f2091650-36b9-473a-bfb2-0360343daaa4"
      },
      "source": [
        "dump(categories_df, '/content/drive/My Drive/Colab Notebooks/files/categories_df.pkl') \n",
        "dump(tfidf_vect, '/content/drive/My Drive/Colab Notebooks/files/tfidf_vect.pkl')"
      ],
      "execution_count": null,
      "outputs": [
        {
          "output_type": "execute_result",
          "data": {
            "text/plain": [
              "['/content/drive/My Drive/Colab Notebooks/files/tfidf_vect.pkl']"
            ]
          },
          "metadata": {
            "tags": []
          },
          "execution_count": 13
        }
      ]
    },
    {
      "cell_type": "code",
      "metadata": {
        "id": "P0Cob_5a-m6F",
        "colab": {
          "base_uri": "https://localhost:8080/",
          "height": 144
        },
        "outputId": "e7d93fdb-5beb-4d42-91a1-8ce55dce8570"
      },
      "source": [
        "print('Number of training documents: %s' %str(xtrain_tfidf.shape[0]))\n",
        "print('Number of testing documents: %s' %str(xtest_tfidf.shape[0]))\n",
        "print('Number of features of each document: %s' %str(xtrain_tfidf.shape[1]))\n",
        "print('xtrain_tfidf shape: %s' %str(xtrain_tfidf.shape))\n",
        "print('train_y shape: %s' %str(train_y.shape))\n",
        "print('xtest_tfidf shape: %s' %str(xtest_tfidf.shape))\n",
        "print('test_y shape: %s' %str(test_y.shape))"
      ],
      "execution_count": null,
      "outputs": [
        {
          "output_type": "stream",
          "text": [
            "Number of training documents: 55034\n",
            "Number of testing documents: 18345\n",
            "Number of features of each document: 5000\n",
            "xtrain_tfidf shape: (55034, 5000)\n",
            "train_y shape: (55034,)\n",
            "xtest_tfidf shape: (18345, 5000)\n",
            "test_y shape: (18345,)\n"
          ],
          "name": "stdout"
        }
      ]
    },
    {
      "cell_type": "code",
      "metadata": {
        "id": "VV6u2yT5IVY7",
        "colab": {
          "base_uri": "https://localhost:8080/",
          "height": 53
        },
        "outputId": "138d65d4-dfde-4573-e1a8-4c491d3e3cd7"
      },
      "source": [
        "tfidf_vect.inverse_transform(xtrain_tfidf[13])"
      ],
      "execution_count": null,
      "outputs": [
        {
          "output_type": "execute_result",
          "data": {
            "text/plain": [
              "[array(['280g', 'damasco', 'diet', 'geleia', 'geleia queensberry',\n",
              "        'queensberry'], dtype='<U28')]"
            ]
          },
          "metadata": {
            "tags": []
          },
          "execution_count": 15
        }
      ]
    },
    {
      "cell_type": "code",
      "metadata": {
        "id": "0tFW6mqdQKeq",
        "colab": {
          "base_uri": "https://localhost:8080/",
          "height": 90
        },
        "outputId": "aa5ac32c-7811-4a67-a368-db48b1f738b4"
      },
      "source": [
        "%%time\n",
        "logreg = linear_model.LogisticRegression(C=1e5, \n",
        "        solver = 'sag', multi_class = 'multinomial')\n",
        "logreg.fit(xtrain_tfidf, train_y)"
      ],
      "execution_count": null,
      "outputs": [
        {
          "output_type": "stream",
          "text": [
            "CPU times: user 24min 46s, sys: 174 ms, total: 24min 46s\n",
            "Wall time: 24min 47s\n"
          ],
          "name": "stdout"
        },
        {
          "output_type": "stream",
          "text": [
            "/usr/local/lib/python3.6/dist-packages/sklearn/linear_model/_sag.py:330: ConvergenceWarning: The max_iter was reached which means the coef_ did not converge\n",
            "  \"the coef_ did not converge\", ConvergenceWarning)\n"
          ],
          "name": "stderr"
        }
      ]
    },
    {
      "cell_type": "code",
      "metadata": {
        "id": "VyeZ0vJuWFPH",
        "colab": {
          "base_uri": "https://localhost:8080/",
          "height": 35
        },
        "outputId": "ef2ff15e-d97f-48ea-dac3-6b285350b83f"
      },
      "source": [
        "dump(logreg, '/content/drive/My Drive/Colab Notebooks/files/model.joblib')"
      ],
      "execution_count": null,
      "outputs": [
        {
          "output_type": "execute_result",
          "data": {
            "text/plain": [
              "['/content/drive/My Drive/Colab Notebooks/files/model.joblib']"
            ]
          },
          "metadata": {
            "tags": []
          },
          "execution_count": 20
        }
      ]
    },
    {
      "cell_type": "code",
      "metadata": {
        "id": "cveRWfXgWEW-",
        "colab": {
          "base_uri": "https://localhost:8080/",
          "height": 35
        },
        "outputId": "4b57228d-f875-44e8-8f85-8e89b3c1f6f8"
      },
      "source": [
        "# test\n",
        "y_pred = logreg.predict(xtest_tfidf)\n",
        "print(\"Accuracy: %.2f %%\" %(100*accuracy_score(test_y, y_pred.tolist())))"
      ],
      "execution_count": null,
      "outputs": [
        {
          "output_type": "stream",
          "text": [
            "Accuracy: 95.70 %\n"
          ],
          "name": "stdout"
        }
      ]
    }
  ]
}